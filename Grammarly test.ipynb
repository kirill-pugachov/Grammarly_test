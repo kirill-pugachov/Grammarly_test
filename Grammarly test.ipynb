{
 "cells": [
  {
   "cell_type": "markdown",
   "metadata": {},
   "source": [
    "Завдання на програмування\n",
    "Напишіть скрипт, який приймає на вхід текстовий опис дерева і друкує його так,\n",
    "як утиліта asciitree."
   ]
  },
  {
   "cell_type": "code",
   "execution_count": 19,
   "metadata": {
    "collapsed": true
   },
   "outputs": [],
   "source": [
    "def check_raw(raw):\n",
    "    if not (raw.startswith('(') and raw.endswith(')')):\n",
    "        raise Exception('Строка не в скобках')\n",
    "    elif raw.count('(') != raw.count(')'):\n",
    "        raise Exception ('Кол-во открывающихся и закрывающихся скобок не совпадает')\n",
    "    else:\n",
    "        return raw"
   ]
  },
  {
   "cell_type": "code",
   "execution_count": 20,
   "metadata": {
    "collapsed": true
   },
   "outputs": [],
   "source": [
    "def get_parts(raw):\n",
    "        raw = raw.replace('(', '( ')\n",
    "        raw = raw.replace(')', ' )')\n",
    "        tokens = raw.split(' ')\n",
    "        return tokens"
   ]
  },
  {
   "cell_type": "code",
   "execution_count": 21,
   "metadata": {
    "collapsed": true
   },
   "outputs": [],
   "source": [
    "def raw_gen(left_indent, word):\n",
    "    raw_temp = list()\n",
    "    for I in range(left_indent + 1):\n",
    "        if I == 0:\n",
    "            raw_temp.append('|   ')\n",
    "        elif I == (left_indent - 1):\n",
    "            raw_temp.append('+-- ')\n",
    "        elif I > 0 and I < left_indent:\n",
    "            raw_temp.append('    ')\n",
    "        elif I == left_indent:\n",
    "            raw_temp.append(word)\n",
    "    return raw_temp"
   ]
  },
  {
   "cell_type": "code",
   "execution_count": 22,
   "metadata": {
    "collapsed": true
   },
   "outputs": [],
   "source": [
    "def make_result(result):\n",
    "    result_temp = list()\n",
    "    for line in range(len(result)):\n",
    "        left_indent = result[line][0]\n",
    "        current_node = result[line][1]\n",
    "        word = result[line][2]\n",
    "        if line == 0:\n",
    "            if left_indent == 0 and current_node == 0:\n",
    "                result_temp.append([word])\n",
    "        else:\n",
    "            if left_indent == 1 and current_node == 1:\n",
    "                result_temp.append(['+-- ', word])\n",
    "            elif left_indent > 0 and current_node > 0:\n",
    "                if current_node == 1:\n",
    "                    raw_temp = raw_gen(left_indent, word)\n",
    "                    result_temp.append(raw_temp)\n",
    "                elif current_node > 1:\n",
    "                    raw_temp = raw_gen(left_indent, word)                \n",
    "                    result_temp.append(raw_temp)\n",
    "            elif left_indent > 0 and current_node == 0:\n",
    "                if left_indent == 1:\n",
    "                    result_temp.append(['+-- ', word])\n",
    "                elif left_indent > 1:\n",
    "                    raw_temp = raw_gen(left_indent, word)\n",
    "                    result_temp.append(raw_temp)\n",
    "            \n",
    "    return result_temp"
   ]
  },
  {
   "cell_type": "code",
   "execution_count": 23,
   "metadata": {
    "collapsed": true
   },
   "outputs": [],
   "source": [
    "def make_tree(raw_list):\n",
    "    result = list()\n",
    "    temp_word = None\n",
    "    left_indent = 0\n",
    "    current_node = -1\n",
    "    for word in raw_list:\n",
    "        if word == '(':\n",
    "            current_node += 1\n",
    "            left_indent = current_node\n",
    "            temp_word = word\n",
    "        elif word == ')':\n",
    "            current_node -= 1\n",
    "            left_indent  = current_node\n",
    "            temp_word = word\n",
    "        elif word != '(' and word != ')':\n",
    "            if temp_word == '(' or temp_word == ')':\n",
    "                result.append([left_indent, current_node, word])\n",
    "                temp_word = word\n",
    "                left_indent += 1\n",
    "            elif temp_word != '(' or temp_word != ')':\n",
    "                result.append([left_indent, current_node, word])\n",
    "                temp_word = word       \n",
    "    return result"
   ]
  },
  {
   "cell_type": "code",
   "execution_count": 24,
   "metadata": {
    "collapsed": true
   },
   "outputs": [],
   "source": [
    "def graph_draw(result):\n",
    "    for I in result:\n",
    "        print(''.join(I))\n",
    "    print('\\n')"
   ]
  },
  {
   "cell_type": "code",
   "execution_count": 25,
   "metadata": {
    "collapsed": true
   },
   "outputs": [],
   "source": [
    "def total(raw):\n",
    "    raw_clean = check_raw(raw)\n",
    "    raw_list = get_parts(raw_clean)\n",
    "    graph_list = make_tree(raw_list)\n",
    "    graph = make_result(graph_list)\n",
    "    graph_draw(graph)"
   ]
  },
  {
   "cell_type": "code",
   "execution_count": 34,
   "metadata": {
    "collapsed": true
   },
   "outputs": [],
   "source": [
    "raw = '(asciitree (sometimes you) (just (want to draw)) trees (in (your terminal)))'\n",
    "raw1 = '(asciitree (sometimes (you)) (just (want (to draw))) (trees) (in (your (terminal))))'\n",
    "raw2 = '(I (want (to) always have (many (many (different) trees) inside (another) trees) and) (also) (leaves))'\n",
    "raw3 = '(one two three)'\n",
    "raw4 = '(one (two three))'\n",
    "raw5 = '1 2 3 4 5'\n",
    "raw6 = '(1 (2 3 4 (5 6))'"
   ]
  },
  {
   "cell_type": "code",
   "execution_count": 27,
   "metadata": {},
   "outputs": [
    {
     "name": "stdout",
     "output_type": "stream",
     "text": [
      "asciitree\n",
      "+-- sometimes\n",
      "|   +-- you\n",
      "+-- just\n",
      "|   +-- want\n",
      "|       +-- to\n",
      "|       +-- draw\n",
      "+-- in\n",
      "|   +-- your\n",
      "|       +-- terminal\n",
      "\n",
      "\n"
     ]
    }
   ],
   "source": [
    "total(raw)"
   ]
  },
  {
   "cell_type": "code",
   "execution_count": 28,
   "metadata": {},
   "outputs": [
    {
     "name": "stdout",
     "output_type": "stream",
     "text": [
      "asciitree\n",
      "+-- sometimes\n",
      "|   +-- you\n",
      "+-- just\n",
      "|   +-- want\n",
      "|       +-- to\n",
      "|           +-- draw\n",
      "+-- trees\n",
      "+-- in\n",
      "|   +-- your\n",
      "|       +-- terminal\n",
      "\n",
      "\n"
     ]
    }
   ],
   "source": [
    "total(raw1)"
   ]
  },
  {
   "cell_type": "code",
   "execution_count": 29,
   "metadata": {},
   "outputs": [
    {
     "name": "stdout",
     "output_type": "stream",
     "text": [
      "I\n",
      "+-- want\n",
      "|   +-- to\n",
      "+-- always\n",
      "|   +-- have\n",
      "|   +-- many\n",
      "|       +-- many\n",
      "|           +-- different\n",
      "|       +-- trees\n",
      "|   +-- inside\n",
      "|       +-- another\n",
      "|   +-- trees\n",
      "+-- and\n",
      "+-- also\n",
      "+-- leaves\n",
      "\n",
      "\n"
     ]
    }
   ],
   "source": [
    "total(raw2)"
   ]
  },
  {
   "cell_type": "code",
   "execution_count": 30,
   "metadata": {},
   "outputs": [
    {
     "name": "stdout",
     "output_type": "stream",
     "text": [
      "one\n",
      "+-- two\n",
      "+-- three\n",
      "\n",
      "\n"
     ]
    }
   ],
   "source": [
    "total(raw3)"
   ]
  },
  {
   "cell_type": "code",
   "execution_count": 31,
   "metadata": {},
   "outputs": [
    {
     "name": "stdout",
     "output_type": "stream",
     "text": [
      "one\n",
      "+-- two\n",
      "|   +-- three\n",
      "\n",
      "\n"
     ]
    }
   ],
   "source": [
    "total(raw4)"
   ]
  },
  {
   "cell_type": "code",
   "execution_count": 32,
   "metadata": {},
   "outputs": [
    {
     "ename": "Exception",
     "evalue": "Строка не в скобках",
     "output_type": "error",
     "traceback": [
      "\u001b[1;31m---------------------------------------------------------------------------\u001b[0m",
      "\u001b[1;31mException\u001b[0m                                 Traceback (most recent call last)",
      "\u001b[1;32m<ipython-input-32-1588ebc77153>\u001b[0m in \u001b[0;36m<module>\u001b[1;34m()\u001b[0m\n\u001b[1;32m----> 1\u001b[1;33m \u001b[0mtotal\u001b[0m\u001b[1;33m(\u001b[0m\u001b[0mraw5\u001b[0m\u001b[1;33m)\u001b[0m\u001b[1;33m\u001b[0m\u001b[0m\n\u001b[0m",
      "\u001b[1;32m<ipython-input-25-6f558f760881>\u001b[0m in \u001b[0;36mtotal\u001b[1;34m(raw)\u001b[0m\n\u001b[0;32m      1\u001b[0m \u001b[1;32mdef\u001b[0m \u001b[0mtotal\u001b[0m\u001b[1;33m(\u001b[0m\u001b[0mraw\u001b[0m\u001b[1;33m)\u001b[0m\u001b[1;33m:\u001b[0m\u001b[1;33m\u001b[0m\u001b[0m\n\u001b[1;32m----> 2\u001b[1;33m     \u001b[0mraw_clean\u001b[0m \u001b[1;33m=\u001b[0m \u001b[0mcheck_raw\u001b[0m\u001b[1;33m(\u001b[0m\u001b[0mraw\u001b[0m\u001b[1;33m)\u001b[0m\u001b[1;33m\u001b[0m\u001b[0m\n\u001b[0m\u001b[0;32m      3\u001b[0m     \u001b[0mraw_list\u001b[0m \u001b[1;33m=\u001b[0m \u001b[0mget_parts\u001b[0m\u001b[1;33m(\u001b[0m\u001b[0mraw_clean\u001b[0m\u001b[1;33m)\u001b[0m\u001b[1;33m\u001b[0m\u001b[0m\n\u001b[0;32m      4\u001b[0m     \u001b[0mgraph_list\u001b[0m \u001b[1;33m=\u001b[0m \u001b[0mmake_tree\u001b[0m\u001b[1;33m(\u001b[0m\u001b[0mraw_list\u001b[0m\u001b[1;33m)\u001b[0m\u001b[1;33m\u001b[0m\u001b[0m\n\u001b[0;32m      5\u001b[0m     \u001b[0mgraph\u001b[0m \u001b[1;33m=\u001b[0m \u001b[0mmake_result\u001b[0m\u001b[1;33m(\u001b[0m\u001b[0mgraph_list\u001b[0m\u001b[1;33m)\u001b[0m\u001b[1;33m\u001b[0m\u001b[0m\n",
      "\u001b[1;32m<ipython-input-19-3b67b2364483>\u001b[0m in \u001b[0;36mcheck_raw\u001b[1;34m(raw)\u001b[0m\n\u001b[0;32m      1\u001b[0m \u001b[1;32mdef\u001b[0m \u001b[0mcheck_raw\u001b[0m\u001b[1;33m(\u001b[0m\u001b[0mraw\u001b[0m\u001b[1;33m)\u001b[0m\u001b[1;33m:\u001b[0m\u001b[1;33m\u001b[0m\u001b[0m\n\u001b[0;32m      2\u001b[0m     \u001b[1;32mif\u001b[0m \u001b[1;32mnot\u001b[0m \u001b[1;33m(\u001b[0m\u001b[0mraw\u001b[0m\u001b[1;33m.\u001b[0m\u001b[0mstartswith\u001b[0m\u001b[1;33m(\u001b[0m\u001b[1;34m'('\u001b[0m\u001b[1;33m)\u001b[0m \u001b[1;32mand\u001b[0m \u001b[0mraw\u001b[0m\u001b[1;33m.\u001b[0m\u001b[0mendswith\u001b[0m\u001b[1;33m(\u001b[0m\u001b[1;34m')'\u001b[0m\u001b[1;33m)\u001b[0m\u001b[1;33m)\u001b[0m\u001b[1;33m:\u001b[0m\u001b[1;33m\u001b[0m\u001b[0m\n\u001b[1;32m----> 3\u001b[1;33m         \u001b[1;32mraise\u001b[0m \u001b[0mException\u001b[0m\u001b[1;33m(\u001b[0m\u001b[1;34m'Строка не в скобках'\u001b[0m\u001b[1;33m)\u001b[0m\u001b[1;33m\u001b[0m\u001b[0m\n\u001b[0m\u001b[0;32m      4\u001b[0m     \u001b[1;32melif\u001b[0m \u001b[0mraw\u001b[0m\u001b[1;33m.\u001b[0m\u001b[0mcount\u001b[0m\u001b[1;33m(\u001b[0m\u001b[1;34m'('\u001b[0m\u001b[1;33m)\u001b[0m \u001b[1;33m!=\u001b[0m \u001b[0mraw\u001b[0m\u001b[1;33m.\u001b[0m\u001b[0mcount\u001b[0m\u001b[1;33m(\u001b[0m\u001b[1;34m')'\u001b[0m\u001b[1;33m)\u001b[0m\u001b[1;33m:\u001b[0m\u001b[1;33m\u001b[0m\u001b[0m\n\u001b[0;32m      5\u001b[0m         \u001b[1;32mraise\u001b[0m \u001b[0mException\u001b[0m \u001b[1;33m(\u001b[0m\u001b[1;34m'Кол-во открывающихся и закрывающихся скобок не совпадает'\u001b[0m\u001b[1;33m)\u001b[0m\u001b[1;33m\u001b[0m\u001b[0m\n",
      "\u001b[1;31mException\u001b[0m: Строка не в скобках"
     ]
    }
   ],
   "source": [
    "total(raw5)"
   ]
  },
  {
   "cell_type": "code",
   "execution_count": 35,
   "metadata": {},
   "outputs": [
    {
     "ename": "Exception",
     "evalue": "Кол-во открывающихся и закрывающихся скобок не совпадает",
     "output_type": "error",
     "traceback": [
      "\u001b[1;31m---------------------------------------------------------------------------\u001b[0m",
      "\u001b[1;31mException\u001b[0m                                 Traceback (most recent call last)",
      "\u001b[1;32m<ipython-input-35-de52975e8ac5>\u001b[0m in \u001b[0;36m<module>\u001b[1;34m()\u001b[0m\n\u001b[1;32m----> 1\u001b[1;33m \u001b[0mtotal\u001b[0m\u001b[1;33m(\u001b[0m\u001b[0mraw6\u001b[0m\u001b[1;33m)\u001b[0m\u001b[1;33m\u001b[0m\u001b[0m\n\u001b[0m",
      "\u001b[1;32m<ipython-input-25-6f558f760881>\u001b[0m in \u001b[0;36mtotal\u001b[1;34m(raw)\u001b[0m\n\u001b[0;32m      1\u001b[0m \u001b[1;32mdef\u001b[0m \u001b[0mtotal\u001b[0m\u001b[1;33m(\u001b[0m\u001b[0mraw\u001b[0m\u001b[1;33m)\u001b[0m\u001b[1;33m:\u001b[0m\u001b[1;33m\u001b[0m\u001b[0m\n\u001b[1;32m----> 2\u001b[1;33m     \u001b[0mraw_clean\u001b[0m \u001b[1;33m=\u001b[0m \u001b[0mcheck_raw\u001b[0m\u001b[1;33m(\u001b[0m\u001b[0mraw\u001b[0m\u001b[1;33m)\u001b[0m\u001b[1;33m\u001b[0m\u001b[0m\n\u001b[0m\u001b[0;32m      3\u001b[0m     \u001b[0mraw_list\u001b[0m \u001b[1;33m=\u001b[0m \u001b[0mget_parts\u001b[0m\u001b[1;33m(\u001b[0m\u001b[0mraw_clean\u001b[0m\u001b[1;33m)\u001b[0m\u001b[1;33m\u001b[0m\u001b[0m\n\u001b[0;32m      4\u001b[0m     \u001b[0mgraph_list\u001b[0m \u001b[1;33m=\u001b[0m \u001b[0mmake_tree\u001b[0m\u001b[1;33m(\u001b[0m\u001b[0mraw_list\u001b[0m\u001b[1;33m)\u001b[0m\u001b[1;33m\u001b[0m\u001b[0m\n\u001b[0;32m      5\u001b[0m     \u001b[0mgraph\u001b[0m \u001b[1;33m=\u001b[0m \u001b[0mmake_result\u001b[0m\u001b[1;33m(\u001b[0m\u001b[0mgraph_list\u001b[0m\u001b[1;33m)\u001b[0m\u001b[1;33m\u001b[0m\u001b[0m\n",
      "\u001b[1;32m<ipython-input-19-3b67b2364483>\u001b[0m in \u001b[0;36mcheck_raw\u001b[1;34m(raw)\u001b[0m\n\u001b[0;32m      3\u001b[0m         \u001b[1;32mraise\u001b[0m \u001b[0mException\u001b[0m\u001b[1;33m(\u001b[0m\u001b[1;34m'Строка не в скобках'\u001b[0m\u001b[1;33m)\u001b[0m\u001b[1;33m\u001b[0m\u001b[0m\n\u001b[0;32m      4\u001b[0m     \u001b[1;32melif\u001b[0m \u001b[0mraw\u001b[0m\u001b[1;33m.\u001b[0m\u001b[0mcount\u001b[0m\u001b[1;33m(\u001b[0m\u001b[1;34m'('\u001b[0m\u001b[1;33m)\u001b[0m \u001b[1;33m!=\u001b[0m \u001b[0mraw\u001b[0m\u001b[1;33m.\u001b[0m\u001b[0mcount\u001b[0m\u001b[1;33m(\u001b[0m\u001b[1;34m')'\u001b[0m\u001b[1;33m)\u001b[0m\u001b[1;33m:\u001b[0m\u001b[1;33m\u001b[0m\u001b[0m\n\u001b[1;32m----> 5\u001b[1;33m         \u001b[1;32mraise\u001b[0m \u001b[0mException\u001b[0m \u001b[1;33m(\u001b[0m\u001b[1;34m'Кол-во открывающихся и закрывающихся скобок не совпадает'\u001b[0m\u001b[1;33m)\u001b[0m\u001b[1;33m\u001b[0m\u001b[0m\n\u001b[0m\u001b[0;32m      6\u001b[0m     \u001b[1;32melse\u001b[0m\u001b[1;33m:\u001b[0m\u001b[1;33m\u001b[0m\u001b[0m\n\u001b[0;32m      7\u001b[0m         \u001b[1;32mreturn\u001b[0m \u001b[0mraw\u001b[0m\u001b[1;33m\u001b[0m\u001b[0m\n",
      "\u001b[1;31mException\u001b[0m: Кол-во открывающихся и закрывающихся скобок не совпадает"
     ]
    }
   ],
   "source": [
    "total(raw6)"
   ]
  },
  {
   "cell_type": "markdown",
   "metadata": {},
   "source": [
    "Лінгвістичне завдання\n",
    "У цьому завданні ви отримуєте кілька фраз, перекладених на невідому мову.\n",
    "Переклади цих враз розміщені у довільному порядку. Заповніть пропуски та\n",
    "відновіть відповідність між оригіналом та перекладом."
   ]
  },
  {
   "cell_type": "raw",
   "metadata": {},
   "source": [
    "a. один і п’ять -             2. dir men des\n",
    "b. один і вісім -             3. dir pen segiz\n",
    "c. три і два -                8. oš men eki\n",
    "d. чотири і сім -             7. vört pen ževi\n",
    "e. сім і п’ятдесят -          5. ževi men elüx\n",
    "f. вісім і п’ятдесят -        1. segiz den elüx\n",
    "g. тринадцять і тридцять -    9. ün oš pen ovız\n",
    "h. тридцять і два -           6. ovız den eki\n",
    "i. п’ятдесят два і десять -   4. elüx eki men ün"
   ]
  },
  {
   "cell_type": "markdown",
   "metadata": {},
   "source": [
    "Напишіть, будь ласка, короткий мотиваційний лист англійською мовою.\n",
    "У ньому зазначте:\n",
    "- для чого ви хочете вступити на цей курс\n",
    "- чи маєте досвід у цій або споріднених сферах (якщо так, розкажіть який саме)\n",
    "- чи маєте попередній досвід навчання (інші курси, онлайн навчання тощо)\n",
    "- чого очікуєте від курсу\n",
    "- які теми цікавлять найбільше."
   ]
  },
  {
   "cell_type": "raw",
   "metadata": {},
   "source": [
    "From the course I want to get knowledge and skills in processing information in natural language\n",
    "For now, I'm finishing extra training on machine learning courses at https://datarootlabs.com/\n",
    "\n",
    "There are several implemented projects related to the processing of information in natural language, for example:\n",
    "\n",
    "1. https://github.com/kirill-pugachov/Semantics - construction of the semantic core of the site using the vectorization algorithm tfidf from the library skikit-lern. On the same subject I am writing a thesis for the degree of specialist in software engineering, you can see here https://docs.google.com/document/d/1F6Y5hbupMN0_2ZV17OE1MJ-xH7ZuvpD9ucxTB-H9_38/edit?usp=sharing Defense of the diploma at the end of March\n",
    "\n",
    "2. https://github.com/kirill-pugachov/kaggle_7_module_data_root_lab\n",
    "This is my first experiment with Caggle - epic fail in fact. In general, there is a presentation and everything is described.\n",
    "\n",
    "3. A project from the field of machine learning to classify textual information etc.\n",
    "\n",
    "Especially there is nothing more to say\n",
    "\n",
    "\n",
    "\n"
   ]
  }
 ],
 "metadata": {
  "kernelspec": {
   "display_name": "Python 3",
   "language": "python",
   "name": "python3"
  },
  "language_info": {
   "codemirror_mode": {
    "name": "ipython",
    "version": 3
   },
   "file_extension": ".py",
   "mimetype": "text/x-python",
   "name": "python",
   "nbconvert_exporter": "python",
   "pygments_lexer": "ipython3",
   "version": "3.6.3"
  }
 },
 "nbformat": 4,
 "nbformat_minor": 2
}
